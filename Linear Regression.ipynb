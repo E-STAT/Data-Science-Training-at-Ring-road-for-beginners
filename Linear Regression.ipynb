{
 "cells": [
  {
   "cell_type": "markdown",
   "metadata": {},
   "source": [
    "## Linear Regression in sckit-learn\n",
    "The aim of this tutorial is to walk us through how to implement Linear regression model in sklearn. Hence, this Notebook will be made as simple as possible for readers to have a clear grasp of how to use LinearRegression().\n",
    "\n",
    "Note: There are thousands of approaches or modification that can be done with this data but to be in scoup, we keep it simple."
   ]
  },
  {
   "cell_type": "markdown",
   "metadata": {},
   "source": [
    "### Import Libraries"
   ]
  },
  {
   "cell_type": "code",
   "execution_count": 18,
   "metadata": {},
   "outputs": [
    {
     "name": "stderr",
     "output_type": "stream",
     "text": [
      "UsageError: Line magic function `%matplotlib.inline` not found.\n"
     ]
    }
   ],
   "source": [
    "import numpy as np\n",
    "import pandas as pd\n",
    "import matplotlib as plt\n",
    "import seaborn as sns\n",
    "%matplotlib.inline"
   ]
  },
  {
   "cell_type": "markdown",
   "metadata": {},
   "source": [
    "### Import Dataset\n",
    "The data set used is the on-going \"Womxn in Big Data South Africa: Female-Headed Households in South Africa\" hackathon on zindi.africa. I chose it because it doesn't have missing value and we can fit a model without doing much of preprocessing.\n",
    "\n",
    "And it's paramount to say that I used the training dataset alone as our aim is not to predict or make a submission on Zindi but to see how we can implement Linear Regression in a simple way."
   ]
  },
  {
   "cell_type": "code",
   "execution_count": 19,
   "metadata": {},
   "outputs": [],
   "source": [
    "train = pd.read_csv('train_practise.csv')\n"
   ]
  },
  {
   "cell_type": "code",
   "execution_count": 20,
   "metadata": {},
   "outputs": [
    {
     "data": {
      "text/html": [
       "<div>\n",
       "<style scoped>\n",
       "    .dataframe tbody tr th:only-of-type {\n",
       "        vertical-align: middle;\n",
       "    }\n",
       "\n",
       "    .dataframe tbody tr th {\n",
       "        vertical-align: top;\n",
       "    }\n",
       "\n",
       "    .dataframe thead th {\n",
       "        text-align: right;\n",
       "    }\n",
       "</style>\n",
       "<table border=\"1\" class=\"dataframe\">\n",
       "  <thead>\n",
       "    <tr style=\"text-align: right;\">\n",
       "      <th></th>\n",
       "      <th>ward</th>\n",
       "      <th>total_households</th>\n",
       "      <th>total_individuals</th>\n",
       "      <th>target</th>\n",
       "      <th>dw_00</th>\n",
       "      <th>dw_01</th>\n",
       "      <th>dw_02</th>\n",
       "      <th>dw_03</th>\n",
       "      <th>dw_04</th>\n",
       "      <th>dw_05</th>\n",
       "      <th>...</th>\n",
       "      <th>pw_03</th>\n",
       "      <th>pw_04</th>\n",
       "      <th>pw_05</th>\n",
       "      <th>pw_06</th>\n",
       "      <th>pw_07</th>\n",
       "      <th>pw_08</th>\n",
       "      <th>ADM4_PCODE</th>\n",
       "      <th>lat</th>\n",
       "      <th>lon</th>\n",
       "      <th>NL</th>\n",
       "    </tr>\n",
       "  </thead>\n",
       "  <tbody>\n",
       "    <tr>\n",
       "      <td>0</td>\n",
       "      <td>41601001: Ward 1</td>\n",
       "      <td>1674.45058</td>\n",
       "      <td>5888.20750</td>\n",
       "      <td>16.773757</td>\n",
       "      <td>0.933841</td>\n",
       "      <td>0.000846</td>\n",
       "      <td>0.005490</td>\n",
       "      <td>0.000676</td>\n",
       "      <td>0.000000</td>\n",
       "      <td>0.001372</td>\n",
       "      <td>...</td>\n",
       "      <td>0.002848</td>\n",
       "      <td>0.007537</td>\n",
       "      <td>0.000000</td>\n",
       "      <td>0.012928</td>\n",
       "      <td>0</td>\n",
       "      <td>0</td>\n",
       "      <td>ZA4161001</td>\n",
       "      <td>-29.682270</td>\n",
       "      <td>24.734743</td>\n",
       "      <td>0.292039</td>\n",
       "    </tr>\n",
       "    <tr>\n",
       "      <td>1</td>\n",
       "      <td>41601002: Ward 2</td>\n",
       "      <td>1736.99230</td>\n",
       "      <td>6735.33812</td>\n",
       "      <td>21.496661</td>\n",
       "      <td>0.696940</td>\n",
       "      <td>0.001253</td>\n",
       "      <td>0.004402</td>\n",
       "      <td>0.000000</td>\n",
       "      <td>0.002301</td>\n",
       "      <td>0.001323</td>\n",
       "      <td>...</td>\n",
       "      <td>0.014566</td>\n",
       "      <td>0.057127</td>\n",
       "      <td>0.019092</td>\n",
       "      <td>0.004131</td>\n",
       "      <td>0</td>\n",
       "      <td>0</td>\n",
       "      <td>ZA4161002</td>\n",
       "      <td>-29.119311</td>\n",
       "      <td>24.757737</td>\n",
       "      <td>3.207775</td>\n",
       "    </tr>\n",
       "    <tr>\n",
       "      <td>2</td>\n",
       "      <td>41601003: Ward 3</td>\n",
       "      <td>2403.57591</td>\n",
       "      <td>7273.04995</td>\n",
       "      <td>10.931425</td>\n",
       "      <td>0.810545</td>\n",
       "      <td>0.004517</td>\n",
       "      <td>0.008891</td>\n",
       "      <td>0.003986</td>\n",
       "      <td>0.007735</td>\n",
       "      <td>0.000956</td>\n",
       "      <td>...</td>\n",
       "      <td>0.057560</td>\n",
       "      <td>0.010358</td>\n",
       "      <td>0.001421</td>\n",
       "      <td>0.040881</td>\n",
       "      <td>0</td>\n",
       "      <td>0</td>\n",
       "      <td>ZA4161003</td>\n",
       "      <td>-29.142276</td>\n",
       "      <td>25.094093</td>\n",
       "      <td>0.000000</td>\n",
       "    </tr>\n",
       "    <tr>\n",
       "      <td>3</td>\n",
       "      <td>41601004: Ward 4</td>\n",
       "      <td>1740.78737</td>\n",
       "      <td>5734.49046</td>\n",
       "      <td>23.119257</td>\n",
       "      <td>0.659914</td>\n",
       "      <td>0.000000</td>\n",
       "      <td>0.006129</td>\n",
       "      <td>0.000000</td>\n",
       "      <td>0.000813</td>\n",
       "      <td>0.037245</td>\n",
       "      <td>...</td>\n",
       "      <td>0.000000</td>\n",
       "      <td>0.000669</td>\n",
       "      <td>0.000000</td>\n",
       "      <td>0.005011</td>\n",
       "      <td>0</td>\n",
       "      <td>0</td>\n",
       "      <td>ZA4161004</td>\n",
       "      <td>-29.372052</td>\n",
       "      <td>24.942867</td>\n",
       "      <td>2.038778</td>\n",
       "    </tr>\n",
       "    <tr>\n",
       "      <td>4</td>\n",
       "      <td>41601005: Ward 5</td>\n",
       "      <td>1730.51451</td>\n",
       "      <td>6657.23835</td>\n",
       "      <td>13.652252</td>\n",
       "      <td>0.950575</td>\n",
       "      <td>0.000655</td>\n",
       "      <td>0.001473</td>\n",
       "      <td>0.000598</td>\n",
       "      <td>0.006999</td>\n",
       "      <td>0.000818</td>\n",
       "      <td>...</td>\n",
       "      <td>0.004859</td>\n",
       "      <td>0.001290</td>\n",
       "      <td>0.000673</td>\n",
       "      <td>0.017629</td>\n",
       "      <td>0</td>\n",
       "      <td>0</td>\n",
       "      <td>ZA4161005</td>\n",
       "      <td>-29.409381</td>\n",
       "      <td>25.290165</td>\n",
       "      <td>0.000000</td>\n",
       "    </tr>\n",
       "  </tbody>\n",
       "</table>\n",
       "<p>5 rows × 63 columns</p>\n",
       "</div>"
      ],
      "text/plain": [
       "               ward  total_households  total_individuals     target     dw_00  \\\n",
       "0  41601001: Ward 1        1674.45058         5888.20750  16.773757  0.933841   \n",
       "1  41601002: Ward 2        1736.99230         6735.33812  21.496661  0.696940   \n",
       "2  41601003: Ward 3        2403.57591         7273.04995  10.931425  0.810545   \n",
       "3  41601004: Ward 4        1740.78737         5734.49046  23.119257  0.659914   \n",
       "4  41601005: Ward 5        1730.51451         6657.23835  13.652252  0.950575   \n",
       "\n",
       "      dw_01     dw_02     dw_03     dw_04     dw_05  ...     pw_03     pw_04  \\\n",
       "0  0.000846  0.005490  0.000676  0.000000  0.001372  ...  0.002848  0.007537   \n",
       "1  0.001253  0.004402  0.000000  0.002301  0.001323  ...  0.014566  0.057127   \n",
       "2  0.004517  0.008891  0.003986  0.007735  0.000956  ...  0.057560  0.010358   \n",
       "3  0.000000  0.006129  0.000000  0.000813  0.037245  ...  0.000000  0.000669   \n",
       "4  0.000655  0.001473  0.000598  0.006999  0.000818  ...  0.004859  0.001290   \n",
       "\n",
       "      pw_05     pw_06  pw_07  pw_08  ADM4_PCODE        lat        lon  \\\n",
       "0  0.000000  0.012928      0      0   ZA4161001 -29.682270  24.734743   \n",
       "1  0.019092  0.004131      0      0   ZA4161002 -29.119311  24.757737   \n",
       "2  0.001421  0.040881      0      0   ZA4161003 -29.142276  25.094093   \n",
       "3  0.000000  0.005011      0      0   ZA4161004 -29.372052  24.942867   \n",
       "4  0.000673  0.017629      0      0   ZA4161005 -29.409381  25.290165   \n",
       "\n",
       "         NL  \n",
       "0  0.292039  \n",
       "1  3.207775  \n",
       "2  0.000000  \n",
       "3  2.038778  \n",
       "4  0.000000  \n",
       "\n",
       "[5 rows x 63 columns]"
      ]
     },
     "execution_count": 20,
     "metadata": {},
     "output_type": "execute_result"
    }
   ],
   "source": [
    "train.head()"
   ]
  },
  {
   "cell_type": "code",
   "execution_count": 21,
   "metadata": {},
   "outputs": [
    {
     "name": "stdout",
     "output_type": "stream",
     "text": [
      "<class 'pandas.core.frame.DataFrame'>\n",
      "RangeIndex: 2822 entries, 0 to 2821\n",
      "Data columns (total 63 columns):\n",
      "ward                 2822 non-null object\n",
      "total_households     2822 non-null float64\n",
      "total_individuals    2822 non-null float64\n",
      "target               2822 non-null float64\n",
      "dw_00                2822 non-null float64\n",
      "dw_01                2822 non-null float64\n",
      "dw_02                2822 non-null float64\n",
      "dw_03                2822 non-null float64\n",
      "dw_04                2822 non-null float64\n",
      "dw_05                2822 non-null float64\n",
      "dw_06                2822 non-null float64\n",
      "dw_07                2822 non-null float64\n",
      "dw_08                2822 non-null float64\n",
      "dw_09                2822 non-null float64\n",
      "dw_10                2822 non-null float64\n",
      "dw_11                2822 non-null float64\n",
      "dw_12                2822 non-null int64\n",
      "dw_13                2822 non-null int64\n",
      "psa_00               2822 non-null float64\n",
      "psa_01               2822 non-null float64\n",
      "psa_02               2822 non-null float64\n",
      "psa_03               2822 non-null float64\n",
      "psa_04               2822 non-null float64\n",
      "stv_00               2822 non-null float64\n",
      "stv_01               2822 non-null float64\n",
      "car_00               2822 non-null float64\n",
      "car_01               2822 non-null float64\n",
      "lln_00               2822 non-null float64\n",
      "lln_01               2822 non-null float64\n",
      "lan_00               2822 non-null float64\n",
      "lan_01               2822 non-null float64\n",
      "lan_02               2822 non-null float64\n",
      "lan_03               2822 non-null float64\n",
      "lan_04               2822 non-null float64\n",
      "lan_05               2822 non-null float64\n",
      "lan_06               2822 non-null float64\n",
      "lan_07               2822 non-null float64\n",
      "lan_08               2822 non-null float64\n",
      "lan_09               2822 non-null float64\n",
      "lan_10               2822 non-null float64\n",
      "lan_11               2822 non-null float64\n",
      "lan_12               2822 non-null float64\n",
      "lan_13               2822 non-null int64\n",
      "lan_14               2822 non-null float64\n",
      "pg_00                2822 non-null float64\n",
      "pg_01                2822 non-null float64\n",
      "pg_02                2822 non-null float64\n",
      "pg_03                2822 non-null float64\n",
      "pg_04                2822 non-null float64\n",
      "lgt_00               2822 non-null float64\n",
      "pw_00                2822 non-null float64\n",
      "pw_01                2822 non-null float64\n",
      "pw_02                2822 non-null float64\n",
      "pw_03                2822 non-null float64\n",
      "pw_04                2822 non-null float64\n",
      "pw_05                2822 non-null float64\n",
      "pw_06                2822 non-null float64\n",
      "pw_07                2822 non-null int64\n",
      "pw_08                2822 non-null int64\n",
      "ADM4_PCODE           2822 non-null object\n",
      "lat                  2822 non-null float64\n",
      "lon                  2822 non-null float64\n",
      "NL                   2822 non-null float64\n",
      "dtypes: float64(56), int64(5), object(2)\n",
      "memory usage: 1.4+ MB\n"
     ]
    }
   ],
   "source": [
    "train.info()"
   ]
  },
  {
   "cell_type": "code",
   "execution_count": 22,
   "metadata": {},
   "outputs": [],
   "source": [
    "train.drop(['ADM4_PCODE', 'ward'], axis = 1, inplace = True) # Drop the the variables though we can still make us of them after some transformations"
   ]
  },
  {
   "cell_type": "code",
   "execution_count": 23,
   "metadata": {},
   "outputs": [],
   "source": [
    "y = train['target'] #Extract my y(predicted)\n",
    "X = train.drop(['target'], axis=1) #Extract my features (X)"
   ]
  },
  {
   "cell_type": "code",
   "execution_count": 24,
   "metadata": {},
   "outputs": [],
   "source": [
    "from sklearn.model_selection import train_test_split # This will split my  data into two; for me to have a train and test...\n",
    "\n",
    "# Test data here is used to see my eveluation metrics...(RMSE for this case)\n"
   ]
  },
  {
   "cell_type": "code",
   "execution_count": 25,
   "metadata": {},
   "outputs": [
    {
     "data": {
      "text/plain": [
       "Index(['total_households', 'total_individuals', 'dw_00', 'dw_01', 'dw_02',\n",
       "       'dw_03', 'dw_04', 'dw_05', 'dw_06', 'dw_07', 'dw_08', 'dw_09', 'dw_10',\n",
       "       'dw_11', 'dw_12', 'dw_13', 'psa_00', 'psa_01', 'psa_02', 'psa_03',\n",
       "       'psa_04', 'stv_00', 'stv_01', 'car_00', 'car_01', 'lln_00', 'lln_01',\n",
       "       'lan_00', 'lan_01', 'lan_02', 'lan_03', 'lan_04', 'lan_05', 'lan_06',\n",
       "       'lan_07', 'lan_08', 'lan_09', 'lan_10', 'lan_11', 'lan_12', 'lan_13',\n",
       "       'lan_14', 'pg_00', 'pg_01', 'pg_02', 'pg_03', 'pg_04', 'lgt_00',\n",
       "       'pw_00', 'pw_01', 'pw_02', 'pw_03', 'pw_04', 'pw_05', 'pw_06', 'pw_07',\n",
       "       'pw_08', 'lat', 'lon', 'NL'],\n",
       "      dtype='object')"
      ]
     },
     "execution_count": 25,
     "metadata": {},
     "output_type": "execute_result"
    }
   ],
   "source": [
    "X_train, X_test, y_train, y_test = train_test_split(X, y, test_size=0.20, random_state=42)\n",
    "X_train.columns"
   ]
  },
  {
   "cell_type": "code",
   "execution_count": 26,
   "metadata": {},
   "outputs": [
    {
     "data": {
      "text/plain": [
       "LinearRegression(copy_X=True, fit_intercept=True, n_jobs=1, normalize=False)"
      ]
     },
     "execution_count": 26,
     "metadata": {},
     "output_type": "execute_result"
    }
   ],
   "source": [
    "from sklearn.linear_model import LinearRegression # Import Linear regression from sklearn\n",
    "lr = LinearRegression() # put LinearRegression in a variable called 'lr'\n",
    "lr.fit(X_train, y_train) # fit the model (Mathematical equation)"
   ]
  },
  {
   "cell_type": "code",
   "execution_count": 27,
   "metadata": {},
   "outputs": [],
   "source": [
    "from math import sqrt\n",
    "from sklearn.metrics import mean_squared_error"
   ]
  },
  {
   "cell_type": "code",
   "execution_count": 29,
   "metadata": {},
   "outputs": [
    {
     "name": "stdout",
     "output_type": "stream",
     "text": [
      "RMSE: 3.7232677926200606\n"
     ]
    }
   ],
   "source": [
    "print(\"RMSE:\", sqrt(mean_squared_error(y_test, lr.predict(X_test))))\n",
    "# Calculate the RMSE which is the square root of mean square error\n",
    "#lr.predict(X_test)  here will calculated the prediction using the matheatical equation fitted on the X_test"
   ]
  },
  {
   "cell_type": "code",
   "execution_count": 30,
   "metadata": {},
   "outputs": [],
   "source": [
    "## Our error is 3.723....."
   ]
  },
  {
   "cell_type": "markdown",
   "metadata": {},
   "source": [
    "## Advice: \n",
    "You can do yourself good by reading up on the mathematical equations behind Linear regression for you to have an understanding of what the model has done.... This applies to all other Machine Learning Models we'd be considering subsequently"
   ]
  },
  {
   "cell_type": "markdown",
   "metadata": {},
   "source": [
    "## Thank you"
   ]
  }
 ],
 "metadata": {
  "kernelspec": {
   "display_name": "Python 3",
   "language": "python",
   "name": "python3"
  },
  "language_info": {
   "codemirror_mode": {
    "name": "ipython",
    "version": 3
   },
   "file_extension": ".py",
   "mimetype": "text/x-python",
   "name": "python",
   "nbconvert_exporter": "python",
   "pygments_lexer": "ipython3",
   "version": "3.6.5"
  }
 },
 "nbformat": 4,
 "nbformat_minor": 2
}
